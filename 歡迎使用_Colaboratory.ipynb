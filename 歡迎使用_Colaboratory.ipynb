{
  "cells": [
    {
      "cell_type": "markdown",
      "metadata": {
        "id": "view-in-github",
        "colab_type": "text"
      },
      "source": [
        "<a href=\"https://colab.research.google.com/github/Tsung-Hung/dummy-git/blob/master/%E6%AD%A1%E8%BF%8E%E4%BD%BF%E7%94%A8_Colaboratory.ipynb\" target=\"_parent\"><img src=\"https://colab.research.google.com/assets/colab-badge.svg\" alt=\"Open In Colab\"/></a>"
      ]
    },
    {
      "cell_type": "code",
      "source": [
        "import torch \n",
        "import torch.nn as nn"
      ],
      "metadata": {
        "id": "dHW39iCRdUOc"
      },
      "execution_count": 180,
      "outputs": []
    },
    {
      "cell_type": "markdown",
      "source": [
        "# LayerNorm replace by BatchNorm"
      ],
      "metadata": {
        "id": "gAWZtsX95OMn"
      }
    },
    {
      "cell_type": "code",
      "source": [
        "batch, sentence_length, embedding_dim = 2, 3, 5\n",
        "embedding = torch.randn(batch, sentence_length, embedding_dim)\n",
        "layer_norm = nn.LayerNorm(embedding_dim)\n",
        "# Activate module\n",
        "origin = layer_norm(embedding)\n",
        "origin"
      ],
      "metadata": {
        "colab": {
          "base_uri": "https://localhost:8080/"
        },
        "id": "ehxI4c6cdEtH",
        "outputId": "6b04529b-e49c-4055-a73e-444c55f846a0"
      },
      "execution_count": 181,
      "outputs": [
        {
          "output_type": "execute_result",
          "data": {
            "text/plain": [
              "tensor([[[ 1.0688, -0.9698, -1.2783,  1.1317,  0.0476],\n",
              "         [ 0.0104,  1.0410, -0.4688, -1.6192,  1.0366],\n",
              "         [ 1.1098,  0.4842, -0.3919, -1.7537,  0.5516]],\n",
              "\n",
              "        [[-0.0934,  0.0651, -0.0703,  1.6269, -1.5282],\n",
              "         [-0.4147,  0.0798,  1.5351, -1.5340,  0.3338],\n",
              "         [ 0.3731, -1.6007,  0.6283, -0.6288,  1.2282]]],\n",
              "       grad_fn=<NativeLayerNormBackward0>)"
            ]
          },
          "metadata": {},
          "execution_count": 181
        }
      ]
    },
    {
      "cell_type": "code",
      "source": [
        "def Layer_norm(x):\n",
        "    '''\n",
        "    BatchNorm2d\n",
        "    '''\n",
        "    batch, sentence_length, embedding_dim = x.shape\n",
        "    x = x.reshape(1, batch*sentence_length, embedding_dim, 1)\n",
        "    layer_norm = nn.BatchNorm2d(x.shape[1], track_running_stats=False, affine=True)\n",
        "    output = layer_norm(x)\n",
        "    output = output.reshape(output.shape[1], output.shape[2]).reshape(batch, sentence_length, embedding_dim)\n",
        "    return output\n",
        "\n",
        "test = Layer_norm(embedding)\n",
        "test"
      ],
      "metadata": {
        "colab": {
          "base_uri": "https://localhost:8080/"
        },
        "id": "m7lBixnFdECe",
        "outputId": "45cb71d8-f020-4755-8f95-8d3f4411f66f"
      },
      "execution_count": 182,
      "outputs": [
        {
          "output_type": "execute_result",
          "data": {
            "text/plain": [
              "tensor([[[ 1.0688, -0.9698, -1.2783,  1.1317,  0.0476],\n",
              "         [ 0.0104,  1.0410, -0.4688, -1.6192,  1.0366],\n",
              "         [ 1.1098,  0.4842, -0.3919, -1.7537,  0.5516]],\n",
              "\n",
              "        [[-0.0934,  0.0651, -0.0703,  1.6269, -1.5282],\n",
              "         [-0.4147,  0.0798,  1.5351, -1.5340,  0.3338],\n",
              "         [ 0.3731, -1.6007,  0.6283, -0.6288,  1.2282]]],\n",
              "       grad_fn=<ReshapeAliasBackward0>)"
            ]
          },
          "metadata": {},
          "execution_count": 182
        }
      ]
    },
    {
      "cell_type": "code",
      "source": [
        "def Layer_norm2(x):\n",
        "    '''\n",
        "    BatchNorm1d\n",
        "    '''\n",
        "    batch, sentence_length, embedding_dim = x.shape\n",
        "    x = x.reshape(1, batch*sentence_length, embedding_dim)\n",
        "    layer_norm = nn.BatchNorm1d(x.shape[1], track_running_stats=False, affine=True)\n",
        "    output = layer_norm(x)\n",
        "    output = output.reshape(output.shape[1], output.shape[2]).reshape(batch, sentence_length, embedding_dim)\n",
        "    return output\n",
        "\n",
        "test = Layer_norm2(embedding)\n",
        "test"
      ],
      "metadata": {
        "id": "sxbtODU3wSmK",
        "outputId": "98a3e9e3-a4dc-4ce1-93c8-d81b995fd3a9",
        "colab": {
          "base_uri": "https://localhost:8080/"
        }
      },
      "execution_count": 183,
      "outputs": [
        {
          "output_type": "execute_result",
          "data": {
            "text/plain": [
              "tensor([[[ 1.0688, -0.9698, -1.2783,  1.1317,  0.0476],\n",
              "         [ 0.0104,  1.0410, -0.4688, -1.6192,  1.0366],\n",
              "         [ 1.1098,  0.4842, -0.3919, -1.7537,  0.5516]],\n",
              "\n",
              "        [[-0.0934,  0.0651, -0.0703,  1.6269, -1.5282],\n",
              "         [-0.4147,  0.0798,  1.5351, -1.5340,  0.3338],\n",
              "         [ 0.3731, -1.6007,  0.6283, -0.6288,  1.2282]]],\n",
              "       grad_fn=<ReshapeAliasBackward0>)"
            ]
          },
          "metadata": {},
          "execution_count": 183
        }
      ]
    },
    {
      "cell_type": "markdown",
      "source": [
        "# matmul 4D tensor"
      ],
      "metadata": {
        "id": "vTdfn3dc5qrF"
      }
    },
    {
      "cell_type": "code",
      "source": [
        "a1 = torch.rand(2,2,4,8)\n",
        "a2 = torch.rand(2,2,6,8)\n",
        "\n",
        "result = torch.matmul(a1, a2.transpose(-2,-1))\n",
        "print('Shape : ', result.shape)\n",
        "result"
      ],
      "metadata": {
        "colab": {
          "base_uri": "https://localhost:8080/"
        },
        "id": "e3lhWQSo7GTg",
        "outputId": "7f4a467c-6ac8-4b57-f77c-74d7aad04565"
      },
      "execution_count": 60,
      "outputs": [
        {
          "output_type": "stream",
          "name": "stdout",
          "text": [
            "Shape :  torch.Size([2, 2, 4, 6])\n"
          ]
        },
        {
          "output_type": "execute_result",
          "data": {
            "text/plain": [
              "tensor([[[[2.3131, 2.5684, 2.7268, 1.6015, 1.6414, 2.1339],\n",
              "          [1.5039, 2.0396, 2.2715, 1.4535, 1.3327, 1.5806],\n",
              "          [1.7024, 1.6837, 2.2664, 1.4777, 1.4518, 1.2221],\n",
              "          [1.6095, 1.9949, 1.9517, 1.2658, 1.1603, 1.4011]],\n",
              "\n",
              "         [[3.3467, 2.1018, 2.2768, 2.0836, 2.4307, 2.1606],\n",
              "          [2.2287, 1.6298, 1.3702, 1.6120, 2.0341, 1.5944],\n",
              "          [3.2428, 2.4924, 1.7053, 2.0370, 2.7048, 2.6245],\n",
              "          [2.7496, 2.1988, 1.6442, 1.5780, 2.1083, 2.0812]]],\n",
              "\n",
              "\n",
              "        [[[1.7565, 2.7733, 1.7162, 1.7396, 2.0423, 1.9646],\n",
              "          [2.6238, 3.9487, 2.4292, 3.1959, 2.7582, 2.2436],\n",
              "          [2.0262, 3.5778, 2.3311, 3.1846, 2.5255, 1.9627],\n",
              "          [1.8414, 2.8815, 1.6750, 2.1518, 2.0514, 2.0574]],\n",
              "\n",
              "         [[2.1957, 1.6194, 1.1019, 1.7354, 1.7786, 2.2907],\n",
              "          [2.8351, 2.3687, 1.4348, 2.3595, 2.2277, 3.3091],\n",
              "          [2.5764, 1.9971, 1.3812, 2.4410, 1.8875, 2.8381],\n",
              "          [3.9394, 2.8348, 1.9002, 3.0424, 2.7458, 4.1299]]]])"
            ]
          },
          "metadata": {},
          "execution_count": 60
        }
      ]
    },
    {
      "cell_type": "code",
      "source": [
        "def new_matmul1(a1,a2):\n",
        "\n",
        "    k = a1.shape[0]*a1.shape[1]    \n",
        "    mul_list = []\n",
        "    for i in range(a1.shape[0]):\n",
        "        for j in range(a1.shape[1]):\n",
        "            \n",
        "            mul = torch.matmul(a1[i,j,:],a2[i,j,:])                \n",
        "            mul_list.append(mul)\n",
        "\n",
        "    combine = torch.stack(mul_list)  \n",
        "    combine = combine.view(a1.shape[0],a1.shape[1],combine.shape[1],combine.shape[2])\n",
        "    \n",
        "    return combine\n",
        "\n",
        "result1 = new_matmul1(a1, a2.transpose(-2,-1))\n",
        "print('Shape : ', result1.shape)\n",
        "print(result1)"
      ],
      "metadata": {
        "colab": {
          "base_uri": "https://localhost:8080/"
        },
        "id": "1W6MV7b85tuj",
        "outputId": "ecb04f09-71f5-4cda-b2bb-5f5ed5568e21"
      },
      "execution_count": 61,
      "outputs": [
        {
          "output_type": "stream",
          "name": "stdout",
          "text": [
            "Shape :  torch.Size([2, 2, 4, 6])\n",
            "tensor([[[[2.3131, 2.5684, 2.7268, 1.6015, 1.6414, 2.1339],\n",
            "          [1.5039, 2.0396, 2.2715, 1.4535, 1.3327, 1.5806],\n",
            "          [1.7024, 1.6837, 2.2664, 1.4777, 1.4518, 1.2221],\n",
            "          [1.6095, 1.9949, 1.9517, 1.2658, 1.1603, 1.4011]],\n",
            "\n",
            "         [[3.3467, 2.1018, 2.2768, 2.0836, 2.4307, 2.1606],\n",
            "          [2.2287, 1.6298, 1.3702, 1.6120, 2.0341, 1.5944],\n",
            "          [3.2428, 2.4924, 1.7053, 2.0370, 2.7048, 2.6245],\n",
            "          [2.7496, 2.1988, 1.6442, 1.5780, 2.1083, 2.0812]]],\n",
            "\n",
            "\n",
            "        [[[1.7565, 2.7733, 1.7162, 1.7396, 2.0423, 1.9646],\n",
            "          [2.6238, 3.9487, 2.4292, 3.1959, 2.7582, 2.2436],\n",
            "          [2.0262, 3.5778, 2.3311, 3.1846, 2.5255, 1.9627],\n",
            "          [1.8414, 2.8815, 1.6750, 2.1518, 2.0514, 2.0574]],\n",
            "\n",
            "         [[2.1957, 1.6194, 1.1019, 1.7354, 1.7786, 2.2907],\n",
            "          [2.8351, 2.3687, 1.4348, 2.3595, 2.2277, 3.3091],\n",
            "          [2.5764, 1.9971, 1.3812, 2.4410, 1.8875, 2.8381],\n",
            "          [3.9394, 2.8348, 1.9002, 3.0424, 2.7458, 4.1299]]]])\n"
          ]
        }
      ]
    },
    {
      "cell_type": "code",
      "source": [
        "def new_matmul2(a1, a2):\n",
        "\n",
        "    combine = torch.stack([torch.matmul(a1[i][j], a2[i][j]) for i in range(a1.shape[0]) for j in range(a1.shape[1])], dim=0)        \n",
        "    return combine.reshape(a1.shape[0], a1.shape[1], a1.shape[2], a2.shape[3])\n",
        "\n",
        "result2 = new_matmul1(a1, a2.transpose(-2,-1))\n",
        "print('Shape : ', result2.shape)\n",
        "print(result2)\n",
        "print(torch.all(result==result2))"
      ],
      "metadata": {
        "colab": {
          "base_uri": "https://localhost:8080/"
        },
        "id": "hcPGl88v9Kp-",
        "outputId": "a9fa59b6-edcb-423e-cb2c-69943291556c"
      },
      "execution_count": 62,
      "outputs": [
        {
          "output_type": "stream",
          "name": "stdout",
          "text": [
            "Shape :  torch.Size([2, 2, 4, 6])\n",
            "tensor([[[[2.3131, 2.5684, 2.7268, 1.6015, 1.6414, 2.1339],\n",
            "          [1.5039, 2.0396, 2.2715, 1.4535, 1.3327, 1.5806],\n",
            "          [1.7024, 1.6837, 2.2664, 1.4777, 1.4518, 1.2221],\n",
            "          [1.6095, 1.9949, 1.9517, 1.2658, 1.1603, 1.4011]],\n",
            "\n",
            "         [[3.3467, 2.1018, 2.2768, 2.0836, 2.4307, 2.1606],\n",
            "          [2.2287, 1.6298, 1.3702, 1.6120, 2.0341, 1.5944],\n",
            "          [3.2428, 2.4924, 1.7053, 2.0370, 2.7048, 2.6245],\n",
            "          [2.7496, 2.1988, 1.6442, 1.5780, 2.1083, 2.0812]]],\n",
            "\n",
            "\n",
            "        [[[1.7565, 2.7733, 1.7162, 1.7396, 2.0423, 1.9646],\n",
            "          [2.6238, 3.9487, 2.4292, 3.1959, 2.7582, 2.2436],\n",
            "          [2.0262, 3.5778, 2.3311, 3.1846, 2.5255, 1.9627],\n",
            "          [1.8414, 2.8815, 1.6750, 2.1518, 2.0514, 2.0574]],\n",
            "\n",
            "         [[2.1957, 1.6194, 1.1019, 1.7354, 1.7786, 2.2907],\n",
            "          [2.8351, 2.3687, 1.4348, 2.3595, 2.2277, 3.3091],\n",
            "          [2.5764, 1.9971, 1.3812, 2.4410, 1.8875, 2.8381],\n",
            "          [3.9394, 2.8348, 1.9002, 3.0424, 2.7458, 4.1299]]]])\n",
            "tensor(False)\n"
          ]
        }
      ]
    },
    {
      "cell_type": "code",
      "source": [
        "def new_matmul3(a1, a2):\n",
        "  '''\n",
        "  a1 = (2,2,4,8)\n",
        "  a2 = (2,2,6,8)\n",
        "  torch(a2, a1.T)\n",
        "  '''\n",
        "  B1, N1, H1, T1 = a1.shape\n",
        "  B2, N2, T2, H2 = a2.shape\n",
        "  a1 = a1.reshape(B1 * N1 * H1, T1)\n",
        "  #print('a1 : ', a1.shape)\n",
        "  a2 = a2.permute(2,0,1,3)\n",
        "  a2 = a2.reshape(T2, B2 * N2 * H2)\n",
        "  #print('a2 : ', a2.shape)\n",
        "  result = torch.matmul(a1, a2)\n",
        "  #result = torch.stack([result[i*H1:(i+1)*H1 ,i*H2:(i+1)*H2] for i in range(B1*N1)])\n",
        "  #result = result.reshape(B1,N1,H1,H2)\n",
        "  return result\n",
        "\n",
        "result3 = new_matmul3(a1, a2.transpose(-2,-1))\n",
        "print('Shape : ', result3.shape)\n",
        "print(result3)"
      ],
      "metadata": {
        "id": "jxeeKkVQc61G",
        "outputId": "089e1741-e3d4-479a-c183-7b7c7a835668",
        "colab": {
          "base_uri": "https://localhost:8080/"
        }
      },
      "execution_count": 168,
      "outputs": [
        {
          "output_type": "stream",
          "name": "stdout",
          "text": [
            "Shape :  torch.Size([60000, 4000])\n",
            "tensor([[4.0756, 4.4000, 2.9250,  ..., 3.9321, 3.1452, 2.9357],\n",
            "        [4.1753, 5.8372, 4.8736,  ..., 3.9643, 4.0882, 4.4215],\n",
            "        [3.3328, 3.6199, 3.2783,  ..., 3.3327, 3.4274, 3.7227],\n",
            "        ...,\n",
            "        [3.7709, 4.7809, 3.8499,  ..., 3.6629, 4.3153, 3.3123],\n",
            "        [2.5379, 3.2096, 2.3907,  ..., 2.9364, 3.2187, 2.7043],\n",
            "        [3.3499, 5.3955, 3.9302,  ..., 3.6605, 4.5480, 4.3740]],\n",
            "       device='cuda:0')\n"
          ]
        }
      ]
    },
    {
      "cell_type": "code",
      "source": [
        "def new_matmul4(a1, a2):\n",
        "  '''\n",
        "  a1 = (2,2,4,8)  \n",
        "  a2 = (2,2,6,8)\n",
        "  a1_matrix = (16,32)\n",
        "  a2_matrix = (32,24)\n",
        "  '''\n",
        "  #a1_matrix = torch.block_diag(*[a1[i][j] for i in range(a1.shape[0]) for j in range(a1.shape[1])])\n",
        "  #a2_matrix = torch.block_diag(*[a2[i][j] for i in range(a2.shape[0]) for j in range(a2.shape[1])])\n",
        "  #identity = torch.cat([torch.eye(a2.shape[3]) for _ in range(a2.shape[0]*a2.shape[1])]).cuda()\n",
        "  a = torch.ones(a2.shape[0]*a2.shape[1],a2.shape[3])\n",
        "  identity2 = torch.diag_embed(a).reshape(a2.shape[0]*a2.shape[1]*a2.shape[3], a2.shape[3])\n",
        "  result = torch.matmul(a1_matrix, a2_matrix)\n",
        "  result = torch.matmul(result, identity2)\n",
        "  return result\n",
        "\n",
        "result4 = new_matmul4(a1,a2.transpose(-2,-1))\n",
        "print('Shape : ', result4.shape)\n",
        "print(result4)"
      ],
      "metadata": {
        "id": "nyGqFwAZBMlV",
        "outputId": "3cea65ae-f6ef-44a0-87e7-c543c67f0049",
        "colab": {
          "base_uri": "https://localhost:8080/"
        }
      },
      "execution_count": 69,
      "outputs": [
        {
          "output_type": "stream",
          "name": "stdout",
          "text": [
            "Shape :  torch.Size([16, 6])\n",
            "tensor([[2.3131, 2.5684, 2.7268, 1.6015, 1.6414, 2.1339],\n",
            "        [1.5039, 2.0396, 2.2715, 1.4535, 1.3327, 1.5806],\n",
            "        [1.7024, 1.6837, 2.2664, 1.4777, 1.4518, 1.2221],\n",
            "        [1.6095, 1.9949, 1.9517, 1.2658, 1.1603, 1.4011],\n",
            "        [3.3467, 2.1018, 2.2768, 2.0836, 2.4307, 2.1606],\n",
            "        [2.2287, 1.6298, 1.3702, 1.6120, 2.0341, 1.5944],\n",
            "        [3.2428, 2.4924, 1.7053, 2.0370, 2.7048, 2.6245],\n",
            "        [2.7496, 2.1988, 1.6442, 1.5780, 2.1083, 2.0812],\n",
            "        [1.7565, 2.7733, 1.7162, 1.7396, 2.0423, 1.9646],\n",
            "        [2.6238, 3.9487, 2.4292, 3.1959, 2.7582, 2.2436],\n",
            "        [2.0262, 3.5778, 2.3311, 3.1846, 2.5255, 1.9627],\n",
            "        [1.8414, 2.8815, 1.6750, 2.1518, 2.0514, 2.0574],\n",
            "        [2.1957, 1.6194, 1.1019, 1.7354, 1.7786, 2.2907],\n",
            "        [2.8351, 2.3687, 1.4348, 2.3595, 2.2277, 3.3091],\n",
            "        [2.5764, 1.9971, 1.3812, 2.4410, 1.8875, 2.8381],\n",
            "        [3.9394, 2.8348, 1.9002, 3.0424, 2.7458, 4.1299]])\n"
          ]
        }
      ]
    },
    {
      "cell_type": "code",
      "source": [
        "def new_matmul_final(a1, a2):\n",
        "  '''\n",
        "  a1 = (2,2,4,8)  \n",
        "  a2 = (2,2,6,8)\n",
        "  a1_matrix = (16,32)\n",
        "  a2_matrix = (32,24)\n",
        "  '''\n",
        "  a1_matrix = torch.block_diag(*[a1[i][j] for i in range(a1.shape[0]) for j in range(a1.shape[1])])\n",
        "  a2_matrix = torch.block_diag(*[a2[i][j] for i in range(a2.shape[0]) for j in range(a2.shape[1])])\n",
        "  #identity = torch.cat([torch.eye(a2.shape[3]) for _ in range(a2.shape[0]*a2.shape[1])]).cuda()\n",
        "  a = torch.ones(a2.shape[0]*a2.shape[1],a2.shape[3])\n",
        "  #identity2 = torch.diag_embed(a).reshape(a2.shape[0]*a2.shape[1]*a2.shape[3], a2.shape[3]).cuda()\n",
        "  result = torch.matmul(a1_matrix, a2_matrix)\n",
        "  #result = torch.matmul(result, identity2)\n",
        "  return result\n",
        "\n",
        "#result4 = new_matmul4(a1,a2.transpose(-2,-1))\n",
        "#print('Shape : ', result4.shape)\n",
        "#print(result4)"
      ],
      "metadata": {
        "id": "HI9phPV5cS32"
      },
      "execution_count": null,
      "outputs": []
    },
    {
      "cell_type": "code",
      "source": [
        "a2 = torch.rand(1,2,3,4)\n",
        "a2"
      ],
      "metadata": {
        "id": "ooLiQNIvhOeb",
        "outputId": "5d9f6593-1982-4922-d732-13f693b00431",
        "colab": {
          "base_uri": "https://localhost:8080/"
        }
      },
      "execution_count": 157,
      "outputs": [
        {
          "output_type": "execute_result",
          "data": {
            "text/plain": [
              "tensor([[[[0.7210, 0.2294, 0.4558, 0.0930],\n",
              "          [0.2017, 0.0607, 0.4425, 0.3461],\n",
              "          [0.5573, 0.3538, 0.4102, 0.7203]],\n",
              "\n",
              "         [[0.8404, 0.7805, 0.1481, 0.0404],\n",
              "          [0.7765, 0.7399, 0.3273, 0.6756],\n",
              "          [0.1364, 0.3438, 0.1867, 0.5070]]]])"
            ]
          },
          "metadata": {},
          "execution_count": 157
        }
      ]
    },
    {
      "cell_type": "code",
      "source": [
        "\n",
        "B2, N2, T2, H2 = a2.shape\n",
        "a2 = a2.reshape( B2 * N2* T2, H2)\n",
        "print(a2.shape)\n",
        "one = torch.ones(B2*N2, H2)\n",
        "a2_I = torch.diag_embed(one).permute(1,0,2).reshape(H2, B2*N2*H2)\n",
        "a2_m = torch.matmul(a2, a2_I)\n",
        "a2_m"
      ],
      "metadata": {
        "id": "ViwnKtbDhQ7T",
        "outputId": "cf8a3307-cea3-421b-f392-ddede22cb69f",
        "colab": {
          "base_uri": "https://localhost:8080/"
        }
      },
      "execution_count": 158,
      "outputs": [
        {
          "output_type": "stream",
          "name": "stdout",
          "text": [
            "torch.Size([6, 4])\n"
          ]
        },
        {
          "output_type": "execute_result",
          "data": {
            "text/plain": [
              "tensor([[0.7210, 0.2294, 0.4558, 0.0930, 0.7210, 0.2294, 0.4558, 0.0930],\n",
              "        [0.2017, 0.0607, 0.4425, 0.3461, 0.2017, 0.0607, 0.4425, 0.3461],\n",
              "        [0.5573, 0.3538, 0.4102, 0.7203, 0.5573, 0.3538, 0.4102, 0.7203],\n",
              "        [0.8404, 0.7805, 0.1481, 0.0404, 0.8404, 0.7805, 0.1481, 0.0404],\n",
              "        [0.7765, 0.7399, 0.3273, 0.6756, 0.7765, 0.7399, 0.3273, 0.6756],\n",
              "        [0.1364, 0.3438, 0.1867, 0.5070, 0.1364, 0.3438, 0.1867, 0.5070]])"
            ]
          },
          "metadata": {},
          "execution_count": 158
        }
      ]
    },
    {
      "cell_type": "code",
      "source": [
        "one = torch.ones(B2*N2, H2)\n",
        "a2_I = torch.diag_embed(one).permute(1,0,2).reshape(H2, B2*N2*H2)\n",
        "a2_I"
      ],
      "metadata": {
        "id": "t_owRnwwpIOX",
        "outputId": "20b2002b-226c-496e-c150-04cb54d423a6",
        "colab": {
          "base_uri": "https://localhost:8080/"
        }
      },
      "execution_count": 155,
      "outputs": [
        {
          "output_type": "execute_result",
          "data": {
            "text/plain": [
              "tensor([[1., 0., 0., 0., 1., 0., 0., 0.],\n",
              "        [0., 1., 0., 0., 0., 1., 0., 0.],\n",
              "        [0., 0., 1., 0., 0., 0., 1., 0.],\n",
              "        [0., 0., 0., 1., 0., 0., 0., 1.]])"
            ]
          },
          "metadata": {},
          "execution_count": 155
        }
      ]
    },
    {
      "cell_type": "code",
      "source": [
        "#test = torch.eye(a2.shape[1])\n",
        "one = torch.ones(2,4)\n",
        "a2_I = torch.diag_embed(one)\n",
        "a2_I\n",
        "#test = torch.matmul(a2,test)\n",
        "#test"
      ],
      "metadata": {
        "id": "kg_m5usTg0ws",
        "outputId": "2d934573-366c-48ae-817d-538709aa7572",
        "colab": {
          "base_uri": "https://localhost:8080/"
        }
      },
      "execution_count": 100,
      "outputs": [
        {
          "output_type": "execute_result",
          "data": {
            "text/plain": [
              "tensor([[[1., 0., 0., 0.],\n",
              "         [0., 1., 0., 0.],\n",
              "         [0., 0., 1., 0.],\n",
              "         [0., 0., 0., 1.]],\n",
              "\n",
              "        [[1., 0., 0., 0.],\n",
              "         [0., 1., 0., 0.],\n",
              "         [0., 0., 1., 0.],\n",
              "         [0., 0., 0., 1.]]])"
            ]
          },
          "metadata": {},
          "execution_count": 100
        }
      ]
    },
    {
      "cell_type": "code",
      "source": [],
      "metadata": {
        "id": "aJW7fBfzg0zj"
      },
      "execution_count": null,
      "outputs": []
    },
    {
      "cell_type": "code",
      "source": [
        "a1 = torch.rand(1,4,15000,16).cuda()\n",
        "a2 = torch.rand(1,4,1000,16).cuda()\n",
        "\n",
        "%timeit -n 100 -r 7 torch.matmul(a1, a2.transpose(-2,-1))"
      ],
      "metadata": {
        "colab": {
          "base_uri": "https://localhost:8080/"
        },
        "id": "VTdgNaAyEUWd",
        "outputId": "4f5b149a-d0e9-4c2e-9862-48ca95b79bb5"
      },
      "execution_count": 175,
      "outputs": [
        {
          "output_type": "stream",
          "name": "stdout",
          "text": [
            "25.4 µs ± 1.06 µs per loop (mean ± std. dev. of 7 runs, 100 loops each)\n"
          ]
        }
      ]
    },
    {
      "cell_type": "code",
      "source": [
        "%timeit -n 100 -r 7 new_matmul1(a1, a2.transpose(-2,-1))"
      ],
      "metadata": {
        "colab": {
          "base_uri": "https://localhost:8080/"
        },
        "id": "JvFTNCQiDuIc",
        "outputId": "35fd1f15-a9a0-471f-e22b-16a88a50b9cd"
      },
      "execution_count": 176,
      "outputs": [
        {
          "output_type": "stream",
          "name": "stdout",
          "text": [
            "3.99 ms ± 1.46 ms per loop (mean ± std. dev. of 7 runs, 100 loops each)\n"
          ]
        }
      ]
    },
    {
      "cell_type": "code",
      "source": [
        "%timeit -n 100 -r 7 new_matmul2(a1, a2.transpose(-2,-1))"
      ],
      "metadata": {
        "colab": {
          "base_uri": "https://localhost:8080/"
        },
        "id": "QXP7QIijJZm7",
        "outputId": "305ce9d2-1c14-4768-806d-f0682c97d713"
      },
      "execution_count": 177,
      "outputs": [
        {
          "output_type": "stream",
          "name": "stdout",
          "text": [
            "3.57 ms ± 46.7 µs per loop (mean ± std. dev. of 7 runs, 100 loops each)\n"
          ]
        }
      ]
    },
    {
      "cell_type": "code",
      "source": [
        "%timeit -n 200 -r 7 new_matmul3(a1, a2.transpose(-2,-1))"
      ],
      "metadata": {
        "id": "LGnvF8VoJbZk",
        "outputId": "ea2b0be4-b525-4951-e06b-c053cbc694f8",
        "colab": {
          "base_uri": "https://localhost:8080/"
        }
      },
      "execution_count": 178,
      "outputs": [
        {
          "output_type": "stream",
          "name": "stdout",
          "text": [
            "The slowest run took 8.39 times longer than the fastest. This could mean that an intermediate result is being cached.\n",
            "2.01 ms ± 2.06 ms per loop (mean ± std. dev. of 7 runs, 200 loops each)\n"
          ]
        }
      ]
    },
    {
      "cell_type": "code",
      "source": [
        "%timeit -n 100 -r 7 new_matmul4(a1, a2.transpose(-2,-1))"
      ],
      "metadata": {
        "colab": {
          "base_uri": "https://localhost:8080/"
        },
        "id": "t9SgwXaPJdVB",
        "outputId": "b49941e3-1978-4d23-9b4a-5ecc1f066198"
      },
      "execution_count": 36,
      "outputs": [
        {
          "output_type": "stream",
          "name": "stdout",
          "text": [
            "11.5 ms ± 7.34 ms per loop (mean ± std. dev. of 7 runs, 100 loops each)\n"
          ]
        }
      ]
    },
    {
      "cell_type": "code",
      "source": [
        "a1_matrix = torch.block_diag(*[a1[i][j] for i in range(a1.shape[0]) for j in range(a1.shape[1])])\n",
        "a2_matrix = torch.block_diag(*[a2[i][j] for i in range(a2.shape[0]) for j in range(a2.shape[1])])\n",
        "\n",
        "%timeit -n 100 -r 7 torch.matmul(a1_matrix, a2_matrix.transpose(-2,-1))"
      ],
      "metadata": {
        "id": "A8Awqu7OKjac",
        "outputId": "b76d410a-2237-420b-a0d6-ef80b7391395",
        "colab": {
          "base_uri": "https://localhost:8080/"
        }
      },
      "execution_count": 37,
      "outputs": [
        {
          "output_type": "stream",
          "name": "stdout",
          "text": [
            "746 µs ± 36.3 µs per loop (mean ± std. dev. of 7 runs, 100 loops each)\n"
          ]
        }
      ]
    },
    {
      "cell_type": "code",
      "source": [
        "from numpy import matrix\n",
        "A = matrix([[1,0,0],[0,1,0],[0,0,1],[1,0,0],[0,1,0],[0,0,1]])\n",
        "A2 = A.I\n",
        "B = matrix([[1,3,2],[6,1,2],[3,1,1],[1,4,1],[1,1,2],[3,2,1]])\n",
        "B * A2 * 2"
      ],
      "metadata": {
        "id": "Xr6cUvqHW6Y5",
        "outputId": "3addd240-c324-4ff7-8fb6-59c521b54515",
        "colab": {
          "base_uri": "https://localhost:8080/"
        }
      },
      "execution_count": 97,
      "outputs": [
        {
          "output_type": "execute_result",
          "data": {
            "text/plain": [
              "matrix([[1., 3., 2., 1., 3., 2.],\n",
              "        [6., 1., 2., 6., 1., 2.],\n",
              "        [3., 1., 1., 3., 1., 1.],\n",
              "        [1., 4., 1., 1., 4., 1.],\n",
              "        [1., 1., 2., 1., 1., 2.],\n",
              "        [3., 2., 1., 3., 2., 1.]])"
            ]
          },
          "metadata": {},
          "execution_count": 97
        }
      ]
    },
    {
      "cell_type": "code",
      "source": [
        "AB = matrix([[1,3,2,0,0,0],[6,1,2,0,0,0],[3,1,1,0,0,0],[0,0,0,1,4,1],[0,0,0,1,1,2],[0,0,0,3,2,1]])\n",
        "I1 = matrix([[1,0,0],[0,1,0],[0,0,1],[1,0,0],[0,1,0],[0,0,1]])\n",
        "I2 = matrix([[1,0,0,1,0,0],[0,1,0,0,1,0],[0,0,1,0,0,1]])\n",
        "res = AB*I1\n",
        "res"
      ],
      "metadata": {
        "id": "5aGhHB5PjWvC",
        "outputId": "511eabb8-f69a-49a8-d686-b6501fdf7257",
        "colab": {
          "base_uri": "https://localhost:8080/"
        }
      },
      "execution_count": 161,
      "outputs": [
        {
          "output_type": "execute_result",
          "data": {
            "text/plain": [
              "matrix([[1, 3, 2],\n",
              "        [6, 1, 2],\n",
              "        [3, 1, 1],\n",
              "        [1, 4, 1],\n",
              "        [1, 1, 2],\n",
              "        [3, 2, 1]])"
            ]
          },
          "metadata": {},
          "execution_count": 161
        }
      ]
    }
  ],
  "metadata": {
    "colab": {
      "name": "歡迎使用 Colaboratory",
      "provenance": [],
      "include_colab_link": true
    },
    "kernelspec": {
      "display_name": "Python 3",
      "name": "python3"
    },
    "accelerator": "GPU",
    "gpuClass": "standard"
  },
  "nbformat": 4,
  "nbformat_minor": 0
}